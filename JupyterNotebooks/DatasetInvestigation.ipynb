{
 "cells": [
  {
   "cell_type": "code",
   "execution_count": 118,
   "metadata": {},
   "outputs": [],
   "source": [
    "import statistics\n",
    "from collections import defaultdict"
   ]
  },
  {
   "cell_type": "code",
   "execution_count": 1,
   "metadata": {},
   "outputs": [],
   "source": [
    "emoji_file = \"../data/emoji_joined.txt\" # https://github.com/uclnlp/emoji2vec/blob/master/data/raw_training_data/emoji_joined.txt"
   ]
  },
  {
   "cell_type": "code",
   "execution_count": 136,
   "metadata": {},
   "outputs": [],
   "source": [
    "emoji_desc = {}\n",
    "desc_emoji = {}\n",
    "with open(emoji_file, \"r\") as f:\n",
    "    for line in f:\n",
    "        split_line = line.replace(\"\\n\", \"\").split(\"\\t\")\n",
    "        desc = split_line[0].strip()\n",
    "        emoji = split_line[1]\n",
    "        \n",
    "        if desc in desc_emoji:\n",
    "            desc_emoji[desc].append(emoji)\n",
    "        else:\n",
    "            desc_emoji[desc] = [emoji]\n",
    "            \n",
    "        if emoji in emoji_desc:\n",
    "            emoji_desc[emoji].append(desc)\n",
    "        else:\n",
    "            emoji_desc[emoji] = [desc]        "
   ]
  },
  {
   "cell_type": "code",
   "execution_count": 151,
   "metadata": {},
   "outputs": [
    {
     "name": "stdout",
     "output_type": "stream",
     "text": [
      "Number of Emojis: 1662\n",
      "Number of unique descs: 4520\n",
      "Average number of descs per emoji: 3.663\n",
      "Median of descs per emoji: 2.0\n",
      "Mode of descs per emoji: 1\n"
     ]
    }
   ],
   "source": [
    "print(f\"Number of Emojis: {len(emoji_desc)}\")\n",
    "print(f\"Number of unique descs: {len(desc_emoji)}\")\n",
    "\n",
    "print(f\"Average number of descs per emoji: {round(statistics.mean([len(emoji_desc[emoji]) for emoji in emoji_desc]), 3)}\")\n",
    "print(f\"Median of descs per emoji: {round(statistics.median([len(emoji_desc[emoji]) for emoji in emoji_desc]), 3)}\")\n",
    "print(f\"Mode of descs per emoji: {round(statistics.mode([len(emoji_desc[emoji]) for emoji in emoji_desc]), 3)}\")"
   ]
  },
  {
   "cell_type": "code",
   "execution_count": 71,
   "metadata": {},
   "outputs": [
    {
     "name": "stdout",
     "output_type": "stream",
     "text": [
      "🐎: filly, stallion, horse racing, calvary, mare, galloping horse, draft, gallop, cowgirl, mounted, horse, powerful, thoroughbred, yearling, race, gelding, trot, colt, ride, pony, cowboy, year of the horse\n",
      "1 out of 1662 have 22 keywords (0.06)%\n"
     ]
    }
   ],
   "source": [
    "max_descs = max([(len(emoji_desc[emoji]), emoji) for emoji in emoji_desc], key=lambda x: x[0])[0]\n",
    "for emoji in emoji_desc:\n",
    "    if len(emoji_desc[emoji]) == max_descs:\n",
    "        print(emoji, end=\": \")\n",
    "        print(\", \".join(emoji_desc[emoji]))\n",
    "\n",
    "print(f\"{len([emoji for emoji in emoji_desc if len(emoji_desc[emoji]) == max_descs])} out of {len(emoji_desc)} have {max_descs} keywords ({round(len([emoji for emoji in emoji_desc if len(emoji_desc[emoji]) == max_descs])/len(emoji_desc) * 100, 3)})%\")"
   ]
  },
  {
   "cell_type": "code",
   "execution_count": 61,
   "metadata": {},
   "outputs": [
    {
     "name": "stdout",
     "output_type": "stream",
     "text": [
      "☑️: ballot box with check\n",
      "⏸: double vertical bar\n",
      "🚴🏼: light brown bicyclist\n",
      "🅾️: negative squared latin capital letter o\n",
      "🛀🏼: light brown bath\n",
      "🌮: taco\n",
      "👮🏾: deeper brown police officer\n",
      "🔷: large blue diamond\n",
      "➖: heavy minus sign\n",
      "👩‍❤️‍👩: couple with heart with two women\n",
      "660 out of 1662 have only 1 keyword (39.711)%\n"
     ]
    }
   ],
   "source": [
    "min_descs = min([(len(emoji_desc[emoji]), emoji) for emoji in emoji_desc], key=lambda x: x[0])[0]\n",
    "for emoji in [emoji for emoji in emoji_desc if len(emoji_desc[emoji]) == min_descs][:10]:\n",
    "    print(emoji, end=\": \")\n",
    "    print(\", \".join(emoji_desc[emoji]))\n",
    "    \n",
    "print(f\"{len([emoji for emoji in emoji_desc if len(emoji_desc[emoji]) == min_descs])} out of {len(emoji_desc)} have only 1 keyword ({round(len([emoji for emoji in emoji_desc if len(emoji_desc[emoji]) == min_descs])/len(emoji_desc) * 100, 3)})%\")"
   ]
  },
  {
   "cell_type": "code",
   "execution_count": 146,
   "metadata": {},
   "outputs": [
    {
     "name": "stdout",
     "output_type": "stream",
     "text": [
      "sign: ♏️, ♈️, ♉, 🚹, ♍, ♈, ♋️, ♓, ♐️, ♌, ♊️, ♉️, ♒️, ♓️, ♎️, ♐, ♋, ♑️, 🚻, ♍️, ♑, ♏, 👎, ♊, 🚺, ♎, ♌️, ♒, 👍\n",
      "1 out of 4520 have 29 keywords (0.022)%\n"
     ]
    }
   ],
   "source": [
    "max_emoijs = max([(len(desc_emoji[desc]), desc) for desc in desc_emoji], key=lambda x: x[0])[0]\n",
    "for desc in [desc for desc in desc_emoji if len(desc_emoji[desc]) == max_emoijs][:10]:\n",
    "    if len(desc_emoji[desc]) == max_emoijs:\n",
    "        print(desc, end=\": \")\n",
    "        print(\", \".join(desc_emoji[desc]))\n",
    "\n",
    "print(f\"{len([desc for desc in desc_emoji if len(desc_emoji[desc]) == max_emoijs])} out of {len(desc_emoji)} have {max_emoijs} keywords ({round(len([desc for desc in desc_emoji if len(desc_emoji[desc]) == max_emoijs])/len(desc_emoji) * 100, 3)})%\")"
   ]
  },
  {
   "cell_type": "code",
   "execution_count": 148,
   "metadata": {},
   "outputs": [
    {
     "name": "stdout",
     "output_type": "stream",
     "text": [
      "ballot box with check: ☑️\n",
      "full moon with face: 🌝\n",
      "smiling moon: 🌝\n",
      "moonface: 🌝\n",
      "monsters: 🌝\n",
      "smiley moon: 🌝\n",
      "flag for belarus: 🇧🇾\n",
      "regional indicator symbol letters by: 🇧🇾\n",
      "belarusian flag: 🇧🇾\n",
      "vain: 🐩\n",
      "3800 out of 4520 have 1 keywords (84.071)%\n"
     ]
    }
   ],
   "source": [
    "max_emoijs = min([(len(desc_emoji[desc]), desc) for desc in desc_emoji], key=lambda x: x[0])[0]\n",
    "for desc in [desc for desc in desc_emoji if len(desc_emoji[desc]) == max_emoijs][:10]:\n",
    "    if len(desc_emoji[desc]) == max_emoijs:\n",
    "        print(desc, end=\": \")\n",
    "        print(\", \".join(desc_emoji[desc]))\n",
    "\n",
    "print(f\"{len([desc for desc in desc_emoji if len(desc_emoji[desc]) == max_emoijs])} out of {len(desc_emoji)} have {max_emoijs} keywords ({round(len([desc for desc in desc_emoji if len(desc_emoji[desc]) == max_emoijs])/len(desc_emoji) * 100, 3)})%\")"
   ]
  },
  {
   "cell_type": "code",
   "execution_count": 138,
   "metadata": {},
   "outputs": [
    {
     "data": {
      "image/png": "[encoded data removed]",
      "text/plain": [
       "<Figure size 432x288 with 1 Axes>"
      ]
     },
     "metadata": {},
     "output_type": "display_data"
    }
   ],
   "source": [
    "import seaborn as sns\n",
    "sns.set(style=\"darkgrid\", context=\"paper\")\n",
    "\n",
    "# Plot the responses for different events and regions\n",
    "# p = sns.distplot([len(emoji_desc[emoji]) for emoji in emoji_desc], hist=False, color=\"g\", kde_kws={\"shade\": True}, \n",
    "p = sns.countplot([len(emoji_desc[emoji]) for emoji in emoji_desc]) #, axlabel=\"Number of Keywords\")\n",
    "p.set(xlabel=\"Number of Keywords\", ylabel='Count of Emojis')\n",
    "p.set_title(\"Frequency of Number of Keywords per Emoji\")\n",
    "p.get_figure().savefig(\"../plots/KeywordFrequency.png\")"
   ]
  },
  {
   "cell_type": "code",
   "execution_count": 139,
   "metadata": {},
   "outputs": [
    {
     "data": {
      "image/png": "[encoded data removed]",
      "text/plain": [
       "<Figure size 432x288 with 1 Axes>"
      ]
     },
     "metadata": {},
     "output_type": "display_data"
    }
   ],
   "source": [
    "p = sns.countplot([len(desc_emoji[desc]) for desc in desc_emoji]) #, axlabel=\"Number of Keywords\")\n",
    "p.set(xlabel=\"Number of Keywords\", ylabel='Count of Emojis')\n",
    "p.set_title(\"Frequency of Number of Keywords per Emoji\")\n",
    "p.get_figure().savefig(\"../plots/KeywordFrequency.png\")"
   ]
  }
 ],
 "metadata": {
  "kernelspec": {
   "display_name": "Python 3",
   "language": "python",
   "name": "python3"
  },
  "language_info": {
   "codemirror_mode": {
    "name": "ipython",
    "version": 3
   },
   "file_extension": ".py",
   "mimetype": "text/x-python",
   "name": "python",
   "nbconvert_exporter": "python",
   "pygments_lexer": "ipython3",
   "version": "3.7.3"
  }
 },
 "nbformat": 4,
 "nbformat_minor": 4
}
