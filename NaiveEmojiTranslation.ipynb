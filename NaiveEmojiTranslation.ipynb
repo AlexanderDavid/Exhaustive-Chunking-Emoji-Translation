{
 "cells": [
  {
   "cell_type": "code",
   "execution_count": 2,
   "metadata": {},
   "outputs": [],
   "source": [
    "import sent2vec\n",
    "from scipy.spatial.distance import cosine\n",
    "from typing import List, Tuple\n",
    "import numpy as np\n",
    "from nltk import word_tokenize\n",
    "from nltk.stem import WordNetLemmatizer"
   ]
  },
  {
   "cell_type": "code",
   "execution_count": 3,
   "metadata": {},
   "outputs": [],
   "source": [
    "# Initialize the sent2vec model\n",
    "s2v = sent2vec.Sent2vecModel()\n",
    "s2v.load_model('../models/wiki_unigrams.bin') # https://drive.google.com/open?id=0B6VhzidiLvjSa19uYWlLUEkzX3c\n",
    "\n",
    "# Intitialize the NLTK lemmatizer\n",
    "lemmatizer = WordNetLemmatizer() "
   ]
  },
  {
   "cell_type": "code",
   "execution_count": 4,
   "metadata": {},
   "outputs": [],
   "source": [
    "def clean_sentence(sent: str) -> str:\n",
    "    \"\"\"\n",
    "    Clean and lemmatize a sentence\n",
    "    \n",
    "    TODO: More complex cleaning when the dataset get's more messy\n",
    "    \n",
    "    Args:\n",
    "        sent(str): Sentence to clean\n",
    "    Rets:\n",
    "        (str): Cleaned sentence\n",
    "    \"\"\"\n",
    "    # Lemmatize each word in the sentence\n",
    "    return \" \".join([lemmatizer.lemmatize(word) for word in word_tokenize(sent.lower())])"
   ]
  },
  {
   "cell_type": "code",
   "execution_count": 7,
   "metadata": {},
   "outputs": [],
   "source": [
    "# Define the array to store the (emoji, repr) 2-tuple\n",
    "emoji_embeddings = []\n",
    "# Open the file that stores the emoji, description 2-tuple list\n",
    "with open(\"emoji_joined.txt\") as emojis:\n",
    "    for defn in emojis:\n",
    "        # The file is tab-delim\n",
    "        split = defn.split(\"\\t\")\n",
    "\n",
    "        # Get the emoji and the description from the current line\n",
    "        emoji = split[-1].replace(\"\\n\", \"\")\n",
    "        desc = split[0]\n",
    "\n",
    "        # Add each emoji and embedded description to the list\n",
    "        emoji_embeddings.append((emoji, s2v.embed_sentence(desc)))"
   ]
  },
  {
   "cell_type": "code",
   "execution_count": 16,
   "metadata": {},
   "outputs": [],
   "source": [
    "def closest_emoji(sent: str) -> Tuple[str, int]:\n",
    "    \"\"\"\n",
    "    Get the closest emoji to the given sentence\n",
    "    \n",
    "    Args:\n",
    "        sent(List[str]): Sentence to check\n",
    "    Ret:\n",
    "        (Tuple[str, int]) Closest emoji, the respective cosine similarity\n",
    "    \n",
    "    \"\"\"\n",
    "\n",
    "    # Embed the sentence using sent2vec \n",
    "    emb = s2v.embed_sentence(sent)\n",
    "\n",
    "    # Start the lowest cosine at higher than it could ever be\n",
    "    lowest_cos = 1_000_000\n",
    "\n",
    "    # The best emoji starts as an empty string placeholder\n",
    "    best_emoji = \"\"\n",
    "\n",
    "    # Loop through the dictionary\n",
    "    for emoji in emoji_embeddings:\n",
    "        # Get the current emoji's embedding\n",
    "        emoji_emb = emoji[1]\n",
    "\n",
    "        # Check the cosine difference between the emoji's embedding and\n",
    "        # the sentence's embedding\n",
    "        curr_cos = cosine(emoji_emb, emb)\n",
    "\n",
    "        # If it lower than the lowest then it is the new best\n",
    "        if curr_cos < lowest_cos:\n",
    "            lowest_cos = curr_cos\n",
    "            best_emoji = emoji[0]\n",
    "\n",
    "    # Return a 2-tuple containing the best emoji and its cosine differnece\n",
    "    return best_emoji, lowest_cos"
   ]
  },
  {
   "cell_type": "code",
   "execution_count": 18,
   "metadata": {},
   "outputs": [],
   "source": [
    "def summarize(sent:str) -> Tuple[List[str], List[float], List[str]]: \n",
    "    \"\"\"\n",
    "    Summarize the given sentence into emojis\n",
    "    \n",
    "    Args:\n",
    "        sent(str): Sentence to summarize\n",
    "    Rets:\n",
    "        (Tuple[List[str], List[float], List[str]]): (Emoji Sentence, \n",
    "        List of Uncertainty values for the corresponding emoji,\n",
    "        list of n-grams used to generate the corresponding emoji)\n",
    "    \"\"\"\n",
    "    # Clean and tokenize the sentence\n",
    "    sent = word_tokenize(clean_sentence(sent))\n",
    "    # \n",
    "    lowest_cos = 1000\n",
    "    lowest_emoji = \"\"\n",
    "    # Create vectors to store the return values\n",
    "    emojis = []\n",
    "    uncertainty = []\n",
    "    grams = []\n",
    "    \n",
    "    # Start the trailing n-gram \n",
    "    i = 0\n",
    "    for j in range(1, len(sent) + 1):\n",
    "        # Get the current closest_emoji to the n-gram\n",
    "        curr_emoji, curr_cos = closest_emoji(\" \".join(sent[i:j]))\n",
    "        # If this is better than the previous then set the new best and move on\n",
    "        if curr_cos < lowest_cos:\n",
    "            lowest_emoji = curr_emoji\n",
    "            lowest_cos = curr_cos\n",
    "            \n",
    "        # If the current emoji is not empty and the current cosine\n",
    "        # is larger than the lowest then add the current lowest emoji and \n",
    "        # reset all the variables\n",
    "        elif curr_emoji != \"\":\n",
    "            emojis.append(lowest_emoji)\n",
    "            uncertainty.append(lowest_cos)\n",
    "            grams.append(\" \".join(sent[i:j]))\n",
    "            lowest_cos = 1000\n",
    "            i = j - 1\n",
    "\n",
    "            # If j is at the end of the sentence then the loop is done \n",
    "            if j == len(sent):\n",
    "                break\n",
    "\n",
    "        # If j is at the last index then add the emoji and break\n",
    "        if j == len(sent):\n",
    "            uncertainty.append(lowest_cos)\n",
    "            emojis.append(lowest_emoji)\n",
    "            grams.append(\" \".join(sent[i:j]))\n",
    "            break\n",
    "\n",
    "    # Return the emoji \"sentence\", list of all the cosine similarities, and all of the n-grams\n",
    "    return (\"\".join(emojis), uncertainty, grams)"
   ]
  },
  {
   "cell_type": "code",
   "execution_count": 29,
   "metadata": {},
   "outputs": [
    {
     "data": {
      "text/plain": [
       "('👖🔛', [0.0, 0.4034597873687744], ['work on', 'on smaller sentence'])"
      ]
     },
     "execution_count": 29,
     "metadata": {},
     "output_type": "execute_result"
    }
   ],
   "source": [
    "summarize(\"Works on smaller sentences\")"
   ]
  },
  {
   "cell_type": "code",
   "execution_count": 31,
   "metadata": {},
   "outputs": [
    {
     "data": {
      "text/plain": [
       "('🔛', 0.6355893015861511)"
      ]
     },
     "execution_count": 31,
     "metadata": {},
     "output_type": "execute_result"
    }
   ],
   "source": [
    "closest_emoji(\"on smaller sentence\")"
   ]
  }
 ],
 "metadata": {
  "kernelspec": {
   "display_name": "Python 3",
   "language": "python",
   "name": "python3"
  },
  "language_info": {
   "codemirror_mode": {
    "name": "ipython",
    "version": 3
   },
   "file_extension": ".py",
   "mimetype": "text/x-python",
   "name": "python",
   "nbconvert_exporter": "python",
   "pygments_lexer": "ipython3",
   "version": "3.7.3"
  }
 },
 "nbformat": 4,
 "nbformat_minor": 4
}
