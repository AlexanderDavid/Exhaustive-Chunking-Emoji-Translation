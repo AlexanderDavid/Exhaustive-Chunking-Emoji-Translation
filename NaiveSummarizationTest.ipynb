{
 "cells": [
  {
   "cell_type": "code",
   "execution_count": 11,
   "metadata": {},
   "outputs": [
    {
     "ename": "ImportError",
     "evalue": "cannot import name 'format_summary' from 'NaiveEmojiTranslation' (NaiveEmojiTranslation.ipynb)",
     "output_type": "error",
     "traceback": [
      "\u001b[0;31m---------------------------------------------------------------------------\u001b[0m",
      "\u001b[0;31mImportError\u001b[0m                               Traceback (most recent call last)",
      "\u001b[0;32m<ipython-input-11-a4155b00dbe7>\u001b[0m in \u001b[0;36m<module>\u001b[0;34m\u001b[0m\n\u001b[1;32m      1\u001b[0m \u001b[0;31m# Import Naive Emoji Translation\u001b[0m\u001b[0;34m\u001b[0m\u001b[0;34m\u001b[0m\u001b[0;34m\u001b[0m\u001b[0m\n\u001b[1;32m      2\u001b[0m \u001b[0;32mimport\u001b[0m \u001b[0mimport_ipynb\u001b[0m\u001b[0;34m\u001b[0m\u001b[0;34m\u001b[0m\u001b[0m\n\u001b[0;32m----> 3\u001b[0;31m \u001b[0;32mfrom\u001b[0m \u001b[0mNaiveEmojiTranslation\u001b[0m \u001b[0;32mimport\u001b[0m \u001b[0mformat_summary\u001b[0m\u001b[0;34m\u001b[0m\u001b[0;34m\u001b[0m\u001b[0m\n\u001b[0m",
      "\u001b[0;31mImportError\u001b[0m: cannot import name 'format_summary' from 'NaiveEmojiTranslation' (NaiveEmojiTranslation.ipynb)"
     ]
    }
   ],
   "source": [
    "# Import Naive Emoji Translation\n",
    "import import_ipynb\n",
    "from NaiveEmojiTranslation import *"
   ]
  },
  {
   "cell_type": "markdown",
   "metadata": {},
   "source": [
    "#### Current Best"
   ]
  },
  {
   "cell_type": "code",
   "execution_count": 7,
   "metadata": {},
   "outputs": [
    {
     "ename": "NameError",
     "evalue": "name 'format_summary' is not defined",
     "output_type": "error",
     "traceback": [
      "\u001b[0;31m---------------------------------------------------------------------------\u001b[0m",
      "\u001b[0;31mNameError\u001b[0m                                 Traceback (most recent call last)",
      "\u001b[0;32m<ipython-input-7-2a58f3926c4c>\u001b[0m in \u001b[0;36m<module>\u001b[0;34m\u001b[0m\n\u001b[1;32m      1\u001b[0m \u001b[0;31m# Selection from top 100 movie quotes https://www.infoplease.com/arts-entertainment/movies-and-videos/top-100-movie-quotes\u001b[0m\u001b[0;34m\u001b[0m\u001b[0;34m\u001b[0m\u001b[0;34m\u001b[0m\u001b[0m\n\u001b[1;32m      2\u001b[0m \u001b[0mtesting_sentences\u001b[0m \u001b[0;34m=\u001b[0m \u001b[0;34m[\u001b[0m\u001b[0;34m\"Frankly, my dear, I don't give a damn\"\u001b[0m\u001b[0;34m,\u001b[0m \u001b[0;34m\"I'm going to make him an offer he can't refuse.\"\u001b[0m\u001b[0;34m,\u001b[0m \u001b[0;34m\"Toto, I've got a feeling we're not in Kansas anymore\"\u001b[0m\u001b[0;34m,\u001b[0m \u001b[0;34m\"I love the smell of napalm in the morning\"\u001b[0m\u001b[0;34m,\u001b[0m \u001b[0;34m\"Love means never having to say you're sorry.\"\u001b[0m\u001b[0;34m]\u001b[0m\u001b[0;34m[\u001b[0m\u001b[0;34m-\u001b[0m\u001b[0;36m1\u001b[0m\u001b[0;34m:\u001b[0m\u001b[0;34m]\u001b[0m\u001b[0;34m\u001b[0m\u001b[0;34m\u001b[0m\u001b[0m\n\u001b[0;32m----> 3\u001b[0;31m \u001b[0mdisplay\u001b[0m\u001b[0;34m(\u001b[0m\u001b[0mformat_summary\u001b[0m\u001b[0;34m(\u001b[0m\u001b[0mtesting_sentences\u001b[0m\u001b[0;34m,\u001b[0m \u001b[0;32mlambda\u001b[0m \u001b[0mx\u001b[0m\u001b[0;34m:\u001b[0m \u001b[0mlemmatizerSpacy\u001b[0m\u001b[0;34m(\u001b[0m\u001b[0mx\u001b[0m\u001b[0;34m)\u001b[0m\u001b[0;34m[\u001b[0m\u001b[0;36m0\u001b[0m\u001b[0;34m]\u001b[0m\u001b[0;34m.\u001b[0m\u001b[0mlemma_\u001b[0m\u001b[0;34m,\u001b[0m \u001b[0;32mTrue\u001b[0m\u001b[0;34m)\u001b[0m\u001b[0;34m)\u001b[0m\u001b[0;34m\u001b[0m\u001b[0;34m\u001b[0m\u001b[0m\n\u001b[0m",
      "\u001b[0;31mNameError\u001b[0m: name 'format_summary' is not defined"
     ]
    }
   ],
   "source": [
    "# Selection from top 100 movie quotes https://www.infoplease.com/arts-entertainment/movies-and-videos/top-100-movie-quotes\n",
    "testing_sentences = [\"Frankly, my dear, I don't give a damn\", \"I'm going to make him an offer he can't refuse.\", \"Toto, I've got a feeling we're not in Kansas anymore\", \"I love the smell of napalm in the morning\", \"Love means never having to say you're sorry.\"][-1:]\n",
    "display(format_summary(testing_sentences, lambda x: lemmatizerSpacy(x)[0].lemma_, True))"
   ]
  },
  {
   "cell_type": "markdown",
   "metadata": {},
   "source": [
    "#### Testing on some sentences to see what is best"
   ]
  },
  {
   "cell_type": "code",
   "execution_count": 7,
   "metadata": {},
   "outputs": [
    {
     "data": {
      "text/html": [
       "<h4>No lemmatization, with stop words<h4>"
      ],
      "text/plain": [
       "<IPython.core.display.HTML object>"
      ]
     },
     "metadata": {},
     "output_type": "display_data"
    },
    {
     "data": {
      "text/html": [
       "<table>\n",
       "<thead>\n",
       "<tr><th><b>Input Sentence</b>                     </th><th style=\"text-align: right;\">  <b>Summary Score</b></th><th><b>Individual N-Gram Scores</b>  </th><th><b>N-Grams</b>                                      </th><th><b>Emoji Results</b>  </th></tr>\n",
       "</thead>\n",
       "<tbody>\n",
       "<tr><td>christmas music rings from the clock tower</td><td style=\"text-align: right;\">                 0.943</td><td>[1.0, 1.0, 0.829]                </td><td>['christmas', 'music', 'rings from the clock tower']</td><td>🎄🎻🏫                </td></tr>\n",
       "<tr><td>It not perfect but it is a start          </td><td style=\"text-align: right;\">                 0.879</td><td>[0.838, 0.677, 1.0, 1.0]         </td><td>['it not', 'perfect but it is', 'a', 'start']       </td><td>🙅💯💯🌱              </td></tr>\n",
       "<tr><td>The sun is rising over new york city      </td><td style=\"text-align: right;\">                 0.881</td><td>[0.644, 1.0, 1.0]                </td><td>['the sun is rising over', 'new york', 'city']      </td><td>🌄🗽🚏                </td></tr>\n",
       "</tbody>\n",
       "</table>"
      ],
      "text/plain": [
       "<IPython.core.display.HTML object>"
      ]
     },
     "metadata": {},
     "output_type": "display_data"
    },
    {
     "data": {
      "text/html": [
       "<h4>No lemmatization, no stop words<h4>"
      ],
      "text/plain": [
       "<IPython.core.display.HTML object>"
      ]
     },
     "metadata": {},
     "output_type": "display_data"
    },
    {
     "data": {
      "text/html": [
       "<table>\n",
       "<thead>\n",
       "<tr><th><b>Input Sentence</b>                     </th><th style=\"text-align: right;\">  <b>Summary Score</b></th><th><b>Individual N-Gram Scores</b>  </th><th><b>N-Grams</b>                             </th><th><b>Emoji Results</b>  </th></tr>\n",
       "</thead>\n",
       "<tbody>\n",
       "<tr><td>christmas music rings from the clock tower</td><td style=\"text-align: right;\">                 0.956</td><td>[1.0, 1.0, 0.867]                </td><td>['christmas', 'music', 'rings clock tower']</td><td>🎄🎻🏫                </td></tr>\n",
       "<tr><td>It not perfect but it is a start          </td><td style=\"text-align: right;\">                 1    </td><td>[1.0, 1.0]                       </td><td>['perfect', 'start']                       </td><td>💯🌱                  </td></tr>\n",
       "<tr><td>The sun is rising over new york city      </td><td style=\"text-align: right;\">                 0.927</td><td>[0.781, 1.0, 1.0]                </td><td>['sun rising', 'new york', 'city']         </td><td>🌄🗽🚏                </td></tr>\n",
       "</tbody>\n",
       "</table>"
      ],
      "text/plain": [
       "<IPython.core.display.HTML object>"
      ]
     },
     "metadata": {},
     "output_type": "display_data"
    },
    {
     "data": {
      "text/html": [
       "<h4>Wordnet Lemmatizer, with stop words<h4>"
      ],
      "text/plain": [
       "<IPython.core.display.HTML object>"
      ]
     },
     "metadata": {},
     "output_type": "display_data"
    },
    {
     "data": {
      "text/html": [
       "<table>\n",
       "<thead>\n",
       "<tr><th><b>Input Sentence</b>                     </th><th style=\"text-align: right;\">  <b>Summary Score</b></th><th><b>Individual N-Gram Scores</b>  </th><th><b>N-Grams</b>                                        </th><th><b>Emoji Results</b>  </th></tr>\n",
       "</thead>\n",
       "<tbody>\n",
       "<tr><td>christmas music rings from the clock tower</td><td style=\"text-align: right;\">                 0.983</td><td>[1.0, 1.0, 1.0, 0.934]           </td><td>['christmas', 'music', 'ring', 'from the clock tower']</td><td>🎄🎻💍🏫              </td></tr>\n",
       "<tr><td>It not perfect but it is a start          </td><td style=\"text-align: right;\">                 0.879</td><td>[0.838, 0.677, 1.0, 1.0]         </td><td>['it not', 'perfect but it is', 'a', 'start']         </td><td>🙅💯💯🌱              </td></tr>\n",
       "<tr><td>The sun is rising over new york city      </td><td style=\"text-align: right;\">                 0.881</td><td>[0.644, 1.0, 1.0]                </td><td>['the sun is rising over', 'new york', 'city']        </td><td>🌄🗽🚏                </td></tr>\n",
       "</tbody>\n",
       "</table>"
      ],
      "text/plain": [
       "<IPython.core.display.HTML object>"
      ]
     },
     "metadata": {},
     "output_type": "display_data"
    },
    {
     "data": {
      "text/html": [
       "<h4>Wordnet Lemmatizer, no stop words<h4>"
      ],
      "text/plain": [
       "<IPython.core.display.HTML object>"
      ]
     },
     "metadata": {},
     "output_type": "display_data"
    },
    {
     "data": {
      "text/html": [
       "<table>\n",
       "<thead>\n",
       "<tr><th><b>Input Sentence</b>                     </th><th style=\"text-align: right;\">  <b>Summary Score</b></th><th><b>Individual N-Gram Scores</b>  </th><th><b>N-Grams</b>                                  </th><th><b>Emoji Results</b>  </th></tr>\n",
       "</thead>\n",
       "<tbody>\n",
       "<tr><td>christmas music rings from the clock tower</td><td style=\"text-align: right;\">                 1    </td><td>[1.0, 1.0, 1.0, 1.0, 1.0]        </td><td>['christmas', 'music', 'ring', 'clock', 'tower']</td><td>🎄🎻💍⏰🏰            </td></tr>\n",
       "<tr><td>It not perfect but it is a start          </td><td style=\"text-align: right;\">                 1    </td><td>[1.0, 1.0]                       </td><td>['perfect', 'start']                            </td><td>💯🌱                  </td></tr>\n",
       "<tr><td>The sun is rising over new york city      </td><td style=\"text-align: right;\">                 0.927</td><td>[0.781, 1.0, 1.0]                </td><td>['sun rising', 'new york', 'city']              </td><td>🌄🗽🚏                </td></tr>\n",
       "</tbody>\n",
       "</table>"
      ],
      "text/plain": [
       "<IPython.core.display.HTML object>"
      ]
     },
     "metadata": {},
     "output_type": "display_data"
    },
    {
     "data": {
      "text/html": [
       "<h4>Spacy Lemmatizer, with stop words<h4>"
      ],
      "text/plain": [
       "<IPython.core.display.HTML object>"
      ]
     },
     "metadata": {},
     "output_type": "display_data"
    },
    {
     "data": {
      "text/html": [
       "<table>\n",
       "<thead>\n",
       "<tr><th><b>Input Sentence</b>                     </th><th style=\"text-align: right;\">  <b>Summary Score</b></th><th><b>Individual N-Gram Scores</b>  </th><th><b>N-Grams</b>                                        </th><th><b>Emoji Results</b>  </th></tr>\n",
       "</thead>\n",
       "<tbody>\n",
       "<tr><td>christmas music rings from the clock tower</td><td style=\"text-align: right;\">                 0.983</td><td>[1.0, 1.0, 1.0, 0.934]           </td><td>['christmas', 'music', 'ring', 'from the clock tower']</td><td>🎄🎻💍🏫              </td></tr>\n",
       "<tr><td>It not perfect but it is a start          </td><td style=\"text-align: right;\">                 0.901</td><td>[1.0, 0.605, 1.0, 1.0]           </td><td>['-PRON- not', 'perfect but -PRON- be', 'a', 'start'] </td><td>🙅💯💯🌱              </td></tr>\n",
       "<tr><td>The sun is rising over new york city      </td><td style=\"text-align: right;\">                 0.918</td><td>[0.956, 0.717, 1.0, 1.0]         </td><td>['the sun', 'be rise over', 'new york', 'city']       </td><td>🌄🌇🗽🚏              </td></tr>\n",
       "</tbody>\n",
       "</table>"
      ],
      "text/plain": [
       "<IPython.core.display.HTML object>"
      ]
     },
     "metadata": {},
     "output_type": "display_data"
    },
    {
     "data": {
      "text/html": [
       "<h4>Spacy Lemmatizer, no stop words<h4>"
      ],
      "text/plain": [
       "<IPython.core.display.HTML object>"
      ]
     },
     "metadata": {},
     "output_type": "display_data"
    },
    {
     "data": {
      "text/html": [
       "<table>\n",
       "<thead>\n",
       "<tr><th><b>Input Sentence</b>                     </th><th style=\"text-align: right;\">  <b>Summary Score</b></th><th><b>Individual N-Gram Scores</b>  </th><th><b>N-Grams</b>                                  </th><th><b>Emoji Results</b>  </th></tr>\n",
       "</thead>\n",
       "<tbody>\n",
       "<tr><td>christmas music rings from the clock tower</td><td style=\"text-align: right;\">                     1</td><td>[1.0, 1.0, 1.0, 1.0, 1.0]        </td><td>['christmas', 'music', 'ring', 'clock', 'tower']</td><td>🎄🎻💍⏰🏰            </td></tr>\n",
       "<tr><td>It not perfect but it is a start          </td><td style=\"text-align: right;\">                     1</td><td>[1.0, 1.0]                       </td><td>['perfect', 'start']                            </td><td>💯🌱                  </td></tr>\n",
       "<tr><td>The sun is rising over new york city      </td><td style=\"text-align: right;\">                     1</td><td>[1.0, 1.0, 1.0, 1.0]             </td><td>['sun', 'rise', 'new york', 'city']             </td><td>🌄🌇🗽🚏              </td></tr>\n",
       "</tbody>\n",
       "</table>"
      ],
      "text/plain": [
       "<IPython.core.display.HTML object>"
      ]
     },
     "metadata": {},
     "output_type": "display_data"
    },
    {
     "data": {
      "text/html": [
       "<h4>Porter Stemmer, with stop words<h4>"
      ],
      "text/plain": [
       "<IPython.core.display.HTML object>"
      ]
     },
     "metadata": {},
     "output_type": "display_data"
    },
    {
     "data": {
      "text/html": [
       "<table>\n",
       "<thead>\n",
       "<tr><th><b>Input Sentence</b>                     </th><th style=\"text-align: right;\">  <b>Summary Score</b></th><th><b>Individual N-Gram Scores</b>  </th><th><b>N-Grams</b>                                    </th><th><b>Emoji Results</b>  </th></tr>\n",
       "</thead>\n",
       "<tbody>\n",
       "<tr><td>christmas music rings from the clock tower</td><td style=\"text-align: right;\">                 0.978</td><td>[1.0, 1.0, 0.934]                </td><td>['christma music', 'ring', 'from the clock tower']</td><td>🎻💍🏫                </td></tr>\n",
       "<tr><td>It not perfect but it is a start          </td><td style=\"text-align: right;\">                 0.879</td><td>[0.838, 0.677, 1.0, 1.0]         </td><td>['it not', 'perfect but it is', 'a', 'start']     </td><td>🙅💯💯🌱              </td></tr>\n",
       "<tr><td>The sun is rising over new york city      </td><td style=\"text-align: right;\">                 0.849</td><td>[0.836, 1.0, 0.711]              </td><td>['the sun is', 'rise', 'over new york citi']      </td><td>🌄🌇🗽                </td></tr>\n",
       "</tbody>\n",
       "</table>"
      ],
      "text/plain": [
       "<IPython.core.display.HTML object>"
      ]
     },
     "metadata": {},
     "output_type": "display_data"
    },
    {
     "data": {
      "text/html": [
       "<h4>Porter Stemmer, no stop words<h4>"
      ],
      "text/plain": [
       "<IPython.core.display.HTML object>"
      ]
     },
     "metadata": {},
     "output_type": "display_data"
    },
    {
     "data": {
      "text/html": [
       "<table>\n",
       "<thead>\n",
       "<tr><th><b>Input Sentence</b>                     </th><th style=\"text-align: right;\">  <b>Summary Score</b></th><th><b>Individual N-Gram Scores</b>  </th><th><b>N-Grams</b>                              </th><th><b>Emoji Results</b>  </th></tr>\n",
       "</thead>\n",
       "<tbody>\n",
       "<tr><td>christmas music rings from the clock tower</td><td style=\"text-align: right;\">                 1    </td><td>[1.0, 1.0, 1.0, 1.0]             </td><td>['christma music', 'ring', 'clock', 'tower']</td><td>🎻💍⏰🏰              </td></tr>\n",
       "<tr><td>It not perfect but it is a start          </td><td style=\"text-align: right;\">                 1    </td><td>[1.0, 1.0]                       </td><td>['perfect', 'start']                        </td><td>💯🌱                  </td></tr>\n",
       "<tr><td>The sun is rising over new york city      </td><td style=\"text-align: right;\">                 0.926</td><td>[1.0, 1.0, 1.0, 0.704]           </td><td>['sun', 'rise', 'new', 'york citi']         </td><td>🌄🌇🌑🗽              </td></tr>\n",
       "</tbody>\n",
       "</table>"
      ],
      "text/plain": [
       "<IPython.core.display.HTML object>"
      ]
     },
     "metadata": {},
     "output_type": "display_data"
    },
    {
     "data": {
      "text/html": [
       "<h4>Snowball Stemmer, with stop words<h4>"
      ],
      "text/plain": [
       "<IPython.core.display.HTML object>"
      ]
     },
     "metadata": {},
     "output_type": "display_data"
    },
    {
     "data": {
      "text/html": [
       "<table>\n",
       "<thead>\n",
       "<tr><th><b>Input Sentence</b>                     </th><th style=\"text-align: right;\">  <b>Summary Score</b></th><th><b>Individual N-Gram Scores</b>  </th><th><b>N-Grams</b>                                    </th><th><b>Emoji Results</b>  </th></tr>\n",
       "</thead>\n",
       "<tbody>\n",
       "<tr><td>christmas music rings from the clock tower</td><td style=\"text-align: right;\">                 0.978</td><td>[1.0, 1.0, 0.934]                </td><td>['christma music', 'ring', 'from the clock tower']</td><td>🎻💍🏫                </td></tr>\n",
       "<tr><td>It not perfect but it is a start          </td><td style=\"text-align: right;\">                 0.879</td><td>[0.838, 0.677, 1.0, 1.0]         </td><td>['it not', 'perfect but it is', 'a', 'start']     </td><td>🙅💯💯🌱              </td></tr>\n",
       "<tr><td>The sun is rising over new york city      </td><td style=\"text-align: right;\">                 0.849</td><td>[0.836, 1.0, 0.711]              </td><td>['the sun is', 'rise', 'over new york citi']      </td><td>🌄🌇🗽                </td></tr>\n",
       "</tbody>\n",
       "</table>"
      ],
      "text/plain": [
       "<IPython.core.display.HTML object>"
      ]
     },
     "metadata": {},
     "output_type": "display_data"
    },
    {
     "data": {
      "text/html": [
       "<h4>Snowball Stemmer, no stop words<h4>"
      ],
      "text/plain": [
       "<IPython.core.display.HTML object>"
      ]
     },
     "metadata": {},
     "output_type": "display_data"
    },
    {
     "data": {
      "text/html": [
       "<table>\n",
       "<thead>\n",
       "<tr><th><b>Input Sentence</b>                     </th><th style=\"text-align: right;\">  <b>Summary Score</b></th><th><b>Individual N-Gram Scores</b>  </th><th><b>N-Grams</b>                              </th><th><b>Emoji Results</b>  </th></tr>\n",
       "</thead>\n",
       "<tbody>\n",
       "<tr><td>christmas music rings from the clock tower</td><td style=\"text-align: right;\">                 1    </td><td>[1.0, 1.0, 1.0, 1.0]             </td><td>['christma music', 'ring', 'clock', 'tower']</td><td>🎻💍⏰🏰              </td></tr>\n",
       "<tr><td>It not perfect but it is a start          </td><td style=\"text-align: right;\">                 1    </td><td>[1.0, 1.0]                       </td><td>['perfect', 'start']                        </td><td>💯🌱                  </td></tr>\n",
       "<tr><td>The sun is rising over new york city      </td><td style=\"text-align: right;\">                 0.926</td><td>[1.0, 1.0, 1.0, 0.704]           </td><td>['sun', 'rise', 'new', 'york citi']         </td><td>🌄🌇🌑🗽              </td></tr>\n",
       "</tbody>\n",
       "</table>"
      ],
      "text/plain": [
       "<IPython.core.display.HTML object>"
      ]
     },
     "metadata": {},
     "output_type": "display_data"
    }
   ],
   "source": [
    "testing_sentences = [\"christmas music rings from the clock tower\", \"It not perfect but it is a start\", \"The sun is rising over new york city\"]\n",
    "lemmatization_functions = [(lambda x: x, \"No lemmatization\"), \n",
    "                           (lemmatizerNLTK.lemmatize, \"Wordnet Lemmatizer\"),\n",
    "                           (lambda x: lemmatizerSpacy(x)[0].lemma_, \"Spacy Lemmatizer\"),\n",
    "                           (ps.stem, \"Porter Stemmer\"),\n",
    "                           (sb.stem, \"Snowball Stemmer\")]\n",
    "for lemmatization_function, desc in lemmatization_functions:\n",
    "    for stop_words in [True, False]:\n",
    "        display(HTML(\"<h4>{}, {}<h4>\".format(desc, \"with stop words\" if stop_words else \"no stop words\")))\n",
    "        display(format_summary(testing_sentences, lemmatization_function, stop_words))"
   ]
  }
 ],
 "metadata": {
  "kernelspec": {
   "display_name": "Python 3",
   "language": "python",
   "name": "python3"
  },
  "language_info": {
   "codemirror_mode": {
    "name": "ipython",
    "version": 3
   },
   "file_extension": ".py",
   "mimetype": "text/x-python",
   "name": "python",
   "nbconvert_exporter": "python",
   "pygments_lexer": "ipython3",
   "version": "3.7.3"
  }
 },
 "nbformat": 4,
 "nbformat_minor": 4
}
